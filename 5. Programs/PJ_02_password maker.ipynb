{
 "cells": [
  {
   "cell_type": "code",
   "execution_count": 14,
   "id": "93a31e61-287a-4e7f-9baa-784506304470",
   "metadata": {},
   "outputs": [],
   "source": [
    "from tkinter import *\n",
    "from PIL import ImageTk\n",
    "import json"
   ]
  },
  {
   "cell_type": "code",
   "execution_count": 26,
   "id": "92425ed5-5982-40f2-a96e-5929210e231d",
   "metadata": {},
   "outputs": [],
   "source": [
    "def add_password():\n",
    "    with open('./PJ_02_password maker/password.json', 'r') as f:\n",
    "        passwoed_str=f.read()\n",
    "        if passwoed_str=='':\n",
    "            password_dic={}\n",
    "        else:\n",
    "            password_dic= json.loads(password_str)\n",
    "        \n",
    "    name= name_input.get()\n",
    "    account= account_input.get()\n",
    "    password= password_input.get()\n",
    "\n",
    "    password_dic[name]={\n",
    "        'account': account,\n",
    "        'password': password\n",
    "    }\n",
    "\n",
    "    with open('./PJ_02_password maker/password.json', 'w') as f:\n",
    "        f.write(json.dumps(password_dic))"
   ]
  },
  {
   "cell_type": "code",
   "execution_count": 27,
   "id": "89ad0644-6b9e-47f4-bb55-aed3bbed79df",
   "metadata": {},
   "outputs": [],
   "source": [
    "window= Tk()\n",
    "# window.title('BMI計算機')\n",
    "# window.geometry('230x200')\n",
    "window.config(padx=50, pady=50)\n",
    "\n",
    "img=ImageTk.PhotoImage(file='./PJ_02_password maker/lock.png')\n",
    "canvas=Canvas(width=224, height=225)\n",
    "canvas.create_image(112, 112, image=img)\n",
    "canvas.grid(row=0, column=0, columnspan=2)\n",
    "\n",
    "name_lable=Label(text='帳號名稱')\n",
    "name_lable.grid(row=1, column=0)\n",
    "name_input= Entry(width=25)\n",
    "name_input.grid(row=1, column=1)\n",
    "\n",
    "account_lable=Label(text='帳號')\n",
    "account_lable.grid(pady=5, row=2, column=0)\n",
    "account_input= Entry(width=25)\n",
    "account_input.grid(row=2, column=1)\n",
    "\n",
    "password_lable=Label(text='密碼')\n",
    "password_lable.grid(row=3, column=0)\n",
    "password_input= Entry(width=25)\n",
    "password_input.grid(row=3, column=1)\n",
    "\n",
    "button=Button(text='新增', width=35, bg='#0066cc', fg='white', command=add_password)\n",
    "button.grid(pady=10, row=4, column=0, columnspan=2)\n",
    "\n",
    "\n",
    "window.mainloop()"
   ]
  },
  {
   "cell_type": "code",
   "execution_count": null,
   "id": "f821e8de-f99e-4627-8c85-c5e10935e0c2",
   "metadata": {},
   "outputs": [],
   "source": []
  }
 ],
 "metadata": {
  "kernelspec": {
   "display_name": "Python 3 (ipykernel)",
   "language": "python",
   "name": "python3"
  },
  "language_info": {
   "codemirror_mode": {
    "name": "ipython",
    "version": 3
   },
   "file_extension": ".py",
   "mimetype": "text/x-python",
   "name": "python",
   "nbconvert_exporter": "python",
   "pygments_lexer": "ipython3",
   "version": "3.8.18"
  }
 },
 "nbformat": 4,
 "nbformat_minor": 5
}
