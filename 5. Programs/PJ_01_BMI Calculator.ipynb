{
 "cells": [
  {
   "cell_type": "code",
   "execution_count": 38,
   "id": "93a31e61-287a-4e7f-9baa-784506304470",
   "metadata": {},
   "outputs": [],
   "source": [
    "from tkinter import *"
   ]
  },
  {
   "cell_type": "code",
   "execution_count": 39,
   "id": "92425ed5-5982-40f2-a96e-5929210e231d",
   "metadata": {},
   "outputs": [],
   "source": [
    "def cal_bmi():\n",
    "    height=float(height_input.get())/100\n",
    "    weight=float(weight_input.get())\n",
    "    bmi=weight/height**2\n",
    "    bmi=round(bmi, 1)\n",
    "    bmi_label['text']= f'您的BMI：{bmi}'"
   ]
  },
  {
   "cell_type": "code",
   "execution_count": 40,
   "id": "89ad0644-6b9e-47f4-bb55-aed3bbed79df",
   "metadata": {},
   "outputs": [],
   "source": [
    "window= Tk()\n",
    "window.title('BMI計算機')\n",
    "window.geometry('230x200')\n",
    "window.config(padx=50, pady=50)\n",
    "\n",
    "height_label= Label(text='身高')\n",
    "height_label.grid(row=0, column=0)\n",
    "height_input= Entry(width=10)\n",
    "height_input.grid(row=0, column=1)\n",
    "cm_label= Label(text='公分')\n",
    "cm_label.grid(row=0, column=2)\n",
    "\n",
    "weight_label= Label(text='體重')\n",
    "weight_label.grid(row=1, column=0)\n",
    "weight_input= Entry(width=10)\n",
    "weight_input.grid(row=1, column=1)\n",
    "kg_label= Label(text='公斤')\n",
    "kg_label.grid(row=1, column=2)\n",
    "\n",
    "bmi_label= Label(text='您的BMI=0')\n",
    "bmi_label.grid(row=2, column=1)\n",
    "button=Button(text='計算', command=cal_bmi)\n",
    "button.grid(row=3, column=1)\n",
    "\n",
    "window.mainloop()"
   ]
  }
 ],
 "metadata": {
  "kernelspec": {
   "display_name": "Python 3 (ipykernel)",
   "language": "python",
   "name": "python3"
  },
  "language_info": {
   "codemirror_mode": {
    "name": "ipython",
    "version": 3
   },
   "file_extension": ".py",
   "mimetype": "text/x-python",
   "name": "python",
   "nbconvert_exporter": "python",
   "pygments_lexer": "ipython3",
   "version": "3.8.18"
  }
 },
 "nbformat": 4,
 "nbformat_minor": 5
}
