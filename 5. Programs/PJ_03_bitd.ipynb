{
 "cells": [
  {
   "cell_type": "code",
   "execution_count": 2,
   "id": "e19c7031-55d8-4d50-9738-dcd59540fdcf",
   "metadata": {},
   "outputs": [
    {
     "name": "stdout",
     "output_type": "stream",
     "text": [
      "pygame 2.5.2 (SDL 2.28.3, Python 3.8.18)\n",
      "Hello from the pygame community. https://www.pygame.org/contribute.html\n"
     ]
    }
   ],
   "source": [
    "import pygame"
   ]
  },
  {
   "cell_type": "code",
   "execution_count": 3,
   "id": "ecca1831-89d5-4222-8486-18227f9e1af2",
   "metadata": {},
   "outputs": [],
   "source": [
    "class Bird(pygame.sprite.Sprite):\n",
    "    def __init__(self, img):\n",
    "        super().__init__()\n",
    "        self.image = img\n",
    "        self.rect = self.image.get_rect()"
   ]
  },
  {
   "cell_type": "code",
   "execution_count": null,
   "id": "863d3aa9-fcd4-42b7-8e03-26c3228ce5d5",
   "metadata": {},
   "outputs": [],
   "source": []
  }
 ],
 "metadata": {
  "kernelspec": {
   "display_name": "Python 3 (ipykernel)",
   "language": "python",
   "name": "python3"
  },
  "language_info": {
   "codemirror_mode": {
    "name": "ipython",
    "version": 3
   },
   "file_extension": ".py",
   "mimetype": "text/x-python",
   "name": "python",
   "nbconvert_exporter": "python",
   "pygments_lexer": "ipython3",
   "version": "3.8.18"
  }
 },
 "nbformat": 4,
 "nbformat_minor": 5
}
